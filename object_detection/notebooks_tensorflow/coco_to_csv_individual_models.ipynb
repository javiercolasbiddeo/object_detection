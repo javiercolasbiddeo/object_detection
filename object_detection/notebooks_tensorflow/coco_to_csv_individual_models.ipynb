{
 "cells": [
  {
   "cell_type": "code",
   "execution_count": 9,
   "id": "9e3a8152-67b8-464b-9d00-6e03c8f632bb",
   "metadata": {},
   "outputs": [],
   "source": [
    "from pylabel import importer"
   ]
  },
  {
   "cell_type": "code",
   "execution_count": 10,
   "id": "b71490a3-4514-46bd-9e3c-db81e4c05da8",
   "metadata": {},
   "outputs": [],
   "source": [
    "def coco_to_csv(path_json, path_photos):\n",
    "    \n",
    "    dataset = importer.ImportCoco(path_json,\n",
    "                                  path_to_images= path_photos,\n",
    "                                  name=\"BCCD_coco\")\n",
    "    \n",
    "    return dataset.df.reset_index()"
   ]
  },
  {
   "cell_type": "code",
   "execution_count": null,
   "id": "f6c3bf48-2007-46ef-8e52-0c303edaa53d",
   "metadata": {},
   "outputs": [],
   "source": []
  },
  {
   "cell_type": "code",
   "execution_count": 17,
   "id": "acc83607-9b37-46f5-9ea6-22a5595b84f3",
   "metadata": {},
   "outputs": [],
   "source": [
    "categories = [\"Ambulance\", \"Parking meter\", \"Traffic light\", \"bicycle\", \"bus\", \"vehicle registration plate\", \"traffic sign\", \"stop sign\", \"motorcycle\", \"vehicle\", \"taxi\", \"car\"]"
   ]
  },
  {
   "cell_type": "code",
   "execution_count": 20,
   "id": "b52f14b2-ff28-455d-9f3c-3e8db8aa4c90",
   "metadata": {},
   "outputs": [],
   "source": [
    "def transformacion(variable):\n",
    "    \n",
    "    df = coco_to_csv(f'/home/jupyter/notebook-javi/object_detection/tensorflow/{variable}/train_coco/labels.json',\\\n",
    "                     f'/home/jupyter/notebook-javi/object_detection/tensorflow/{variable}/train_coco/data')\n",
    "    \n",
    "    df.to_csv(f'/home/jupyter/notebook-javi/object_detection/tensorflow/{variable}/labels.csv')\n",
    "    \n",
    "    return 'transformación exitosa!'"
   ]
  },
  {
   "cell_type": "code",
   "execution_count": 21,
   "id": "3479d46b-62ce-4771-b0e1-28f82bedd276",
   "metadata": {},
   "outputs": [
    {
     "ename": "FileNotFoundError",
     "evalue": "[Errno 2] No such file or directory: '/home/jupyter/notebook-javi/object_detection/tensorflow/vehicle registration plate/train_coco/labels.json'",
     "output_type": "error",
     "traceback": [
      "\u001b[0;31m---------------------------------------------------------------------------\u001b[0m",
      "\u001b[0;31mFileNotFoundError\u001b[0m                         Traceback (most recent call last)",
      "\u001b[0;32m/tmp/ipykernel_8082/3147889528.py\u001b[0m in \u001b[0;36m<module>\u001b[0;34m\u001b[0m\n\u001b[1;32m      1\u001b[0m \u001b[0;32mfor\u001b[0m \u001b[0mi\u001b[0m \u001b[0;32min\u001b[0m \u001b[0mcategories\u001b[0m\u001b[0;34m:\u001b[0m\u001b[0;34m\u001b[0m\u001b[0;34m\u001b[0m\u001b[0m\n\u001b[0;32m----> 2\u001b[0;31m     \u001b[0mtransformacion\u001b[0m\u001b[0;34m(\u001b[0m\u001b[0mi\u001b[0m\u001b[0;34m)\u001b[0m\u001b[0;34m\u001b[0m\u001b[0;34m\u001b[0m\u001b[0m\n\u001b[0m",
      "\u001b[0;32m/tmp/ipykernel_8082/1890577943.py\u001b[0m in \u001b[0;36mtransformacion\u001b[0;34m(variable)\u001b[0m\n\u001b[1;32m      2\u001b[0m \u001b[0;34m\u001b[0m\u001b[0m\n\u001b[1;32m      3\u001b[0m     df = coco_to_csv(f'/home/jupyter/notebook-javi/object_detection/tensorflow/{variable}/train_coco/labels.json',\\\n\u001b[0;32m----> 4\u001b[0;31m                      f'/home/jupyter/notebook-javi/object_detection/tensorflow/{variable}/train_coco/data')\n\u001b[0m\u001b[1;32m      5\u001b[0m \u001b[0;34m\u001b[0m\u001b[0m\n\u001b[1;32m      6\u001b[0m     \u001b[0mdf\u001b[0m\u001b[0;34m.\u001b[0m\u001b[0mto_csv\u001b[0m\u001b[0;34m(\u001b[0m\u001b[0;34mf'/home/jupyter/notebook-javi/object_detection/tensorflow/{variable}/labels.csv'\u001b[0m\u001b[0;34m)\u001b[0m\u001b[0;34m\u001b[0m\u001b[0;34m\u001b[0m\u001b[0m\n",
      "\u001b[0;32m/tmp/ipykernel_8082/3336675520.py\u001b[0m in \u001b[0;36mcoco_to_csv\u001b[0;34m(path_json, path_photos)\u001b[0m\n\u001b[1;32m      3\u001b[0m     dataset = importer.ImportCoco(path_json,\n\u001b[1;32m      4\u001b[0m                                   \u001b[0mpath_to_images\u001b[0m\u001b[0;34m=\u001b[0m \u001b[0mpath_photos\u001b[0m\u001b[0;34m,\u001b[0m\u001b[0;34m\u001b[0m\u001b[0;34m\u001b[0m\u001b[0m\n\u001b[0;32m----> 5\u001b[0;31m                                   name=\"BCCD_coco\")\n\u001b[0m\u001b[1;32m      6\u001b[0m \u001b[0;34m\u001b[0m\u001b[0m\n\u001b[1;32m      7\u001b[0m     \u001b[0;32mreturn\u001b[0m \u001b[0mdataset\u001b[0m\u001b[0;34m.\u001b[0m\u001b[0mdf\u001b[0m\u001b[0;34m.\u001b[0m\u001b[0mreset_index\u001b[0m\u001b[0;34m(\u001b[0m\u001b[0;34m)\u001b[0m\u001b[0;34m\u001b[0m\u001b[0;34m\u001b[0m\u001b[0m\n",
      "\u001b[0;32m/opt/conda/lib/python3.7/site-packages/pylabel/importer.py\u001b[0m in \u001b[0;36mImportCoco\u001b[0;34m(path, path_to_images, name)\u001b[0m\n\u001b[1;32m     53\u001b[0m         \u001b[0;34m>>\u001b[0m\u001b[0;34m>\u001b[0m \u001b[0mdataset\u001b[0m \u001b[0;34m=\u001b[0m \u001b[0mimporter\u001b[0m\u001b[0;34m.\u001b[0m\u001b[0mImportCoco\u001b[0m\u001b[0;34m(\u001b[0m\u001b[0;34m\"coco_annotations.json\"\u001b[0m\u001b[0;34m)\u001b[0m\u001b[0;34m\u001b[0m\u001b[0;34m\u001b[0m\u001b[0m\n\u001b[1;32m     54\u001b[0m     \"\"\"\n\u001b[0;32m---> 55\u001b[0;31m     \u001b[0;32mwith\u001b[0m \u001b[0mopen\u001b[0m\u001b[0;34m(\u001b[0m\u001b[0mpath\u001b[0m\u001b[0;34m)\u001b[0m \u001b[0;32mas\u001b[0m \u001b[0mcocojson\u001b[0m\u001b[0;34m:\u001b[0m\u001b[0;34m\u001b[0m\u001b[0;34m\u001b[0m\u001b[0m\n\u001b[0m\u001b[1;32m     56\u001b[0m         \u001b[0mannotations_json\u001b[0m \u001b[0;34m=\u001b[0m \u001b[0mjson\u001b[0m\u001b[0;34m.\u001b[0m\u001b[0mload\u001b[0m\u001b[0;34m(\u001b[0m\u001b[0mcocojson\u001b[0m\u001b[0;34m)\u001b[0m\u001b[0;34m\u001b[0m\u001b[0;34m\u001b[0m\u001b[0m\n\u001b[1;32m     57\u001b[0m \u001b[0;34m\u001b[0m\u001b[0m\n",
      "\u001b[0;31mFileNotFoundError\u001b[0m: [Errno 2] No such file or directory: '/home/jupyter/notebook-javi/object_detection/tensorflow/vehicle registration plate/train_coco/labels.json'"
     ]
    }
   ],
   "source": [
    "for i in categories:\n",
    "    transformacion(i)"
   ]
  },
  {
   "cell_type": "code",
   "execution_count": null,
   "id": "f5afaf11-d9af-489c-9b8e-eb8aec342ac8",
   "metadata": {},
   "outputs": [],
   "source": [
    "/home/jupyter/notebook-javi/object_detection/tensorflow/bicycle"
   ]
  }
 ],
 "metadata": {
  "environment": {
   "kernel": "python3",
   "name": "common-cu110.m95",
   "type": "gcloud",
   "uri": "gcr.io/deeplearning-platform-release/base-cu110:m95"
  },
  "kernelspec": {
   "display_name": "Python 3",
   "language": "python",
   "name": "python3"
  },
  "language_info": {
   "codemirror_mode": {
    "name": "ipython",
    "version": 3
   },
   "file_extension": ".py",
   "mimetype": "text/x-python",
   "name": "python",
   "nbconvert_exporter": "python",
   "pygments_lexer": "ipython3",
   "version": "3.7.12"
  }
 },
 "nbformat": 4,
 "nbformat_minor": 5
}
