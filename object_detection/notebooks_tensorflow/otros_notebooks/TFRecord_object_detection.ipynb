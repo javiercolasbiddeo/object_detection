{
 "cells": [
  {
   "cell_type": "code",
   "execution_count": 76,
   "id": "faa15460-62bc-4070-802d-448680285489",
   "metadata": {},
   "outputs": [],
   "source": [
    "dataset =  tf.data.TFRecordDataset(['tensorflow/cats/tf.records'])"
   ]
  },
  {
   "cell_type": "code",
   "execution_count": 77,
   "id": "970b6f2b-3fec-4fd8-bb6b-589da80ea0cd",
   "metadata": {},
   "outputs": [
    {
     "data": {
      "text/plain": [
       "<TFRecordDatasetV2 element_spec=TensorSpec(shape=(), dtype=tf.string, name=None)>"
      ]
     },
     "execution_count": 77,
     "metadata": {},
     "output_type": "execute_result"
    }
   ],
   "source": [
    "dataset"
   ]
  },
  {
   "cell_type": "code",
   "execution_count": 44,
   "id": "b151e285-6dcb-4732-b85a-ed39f005fff8",
   "metadata": {},
   "outputs": [],
   "source": [
    "# creacion de label text."
   ]
  },
  {
   "cell_type": "code",
   "execution_count": 47,
   "id": "53f42efe-5adb-46dd-a3c6-a9b1107f246b",
   "metadata": {},
   "outputs": [],
   "source": [
    "import pandas as pd"
   ]
  },
  {
   "cell_type": "code",
   "execution_count": 55,
   "id": "33569527-dbaf-49ba-8f9d-b35c1eff6ce1",
   "metadata": {},
   "outputs": [],
   "source": [
    "def main(path):\n",
    "    df = pd.read_csv(path)\n",
    "    label_maps = \"\"\n",
    "    it = 1\n",
    "    for i in df['cat_name'].unique():\n",
    "        label_maps += \"\"\"\n",
    "item {\n",
    "    name: '\"\"\"+str(i)+\"\"\"'\n",
    "    id: \"\"\"+str(it)+\"\"\"\n",
    "}\n",
    "        \"\"\"\n",
    "        it+=1\n",
    "        \n",
    "    return label_maps"
   ]
  },
  {
   "cell_type": "code",
   "execution_count": 59,
   "id": "7fa03b0c-d334-4e86-bbab-7dd5bc23712d",
   "metadata": {},
   "outputs": [],
   "source": [
    "label_map = main('/home/jupyter/notebook-javi/object_detection/pruebas/models/model/annotation.csv')"
   ]
  },
  {
   "cell_type": "code",
   "execution_count": 60,
   "id": "cdad54c4-9408-4f2f-9e6a-8bdda428211c",
   "metadata": {},
   "outputs": [
    {
     "data": {
      "text/plain": [
       "\"\\nitem {\\n    name: 'Cat'\\n    id: 1\\n}\\n        \\nitem {\\n    name: 'Hat'\\n    id: 2\\n}\\n        \\nitem {\\n    name: 'Flower'\\n    id: 3\\n}\\n        \\nitem {\\n    name: 'Lynx'\\n    id: 4\\n}\\n        \\nitem {\\n    name: 'Plant'\\n    id: 5\\n}\\n        \\nitem {\\n    name: 'Waste container'\\n    id: 6\\n}\\n        \\nitem {\\n    name: 'Fireplace'\\n    id: 7\\n}\\n        \\nitem {\\n    name: 'Wood-burning stove'\\n    id: 8\\n}\\n        \\nitem {\\n    name: 'Person'\\n    id: 9\\n}\\n        \\nitem {\\n    name: 'Human face'\\n    id: 10\\n}\\n        \\nitem {\\n    name: 'Computer mouse'\\n    id: 11\\n}\\n        \\nitem {\\n    name: 'Dog'\\n    id: 12\\n}\\n        \\nitem {\\n    name: 'Rose'\\n    id: 13\\n}\\n        \\nitem {\\n    name: 'Human eye'\\n    id: 14\\n}\\n        \\nitem {\\n    name: 'Human ear'\\n    id: 15\\n}\\n        \\nitem {\\n    name: 'Woman'\\n    id: 16\\n}\\n        \\nitem {\\n    name: 'Human hair'\\n    id: 17\\n}\\n        \\nitem {\\n    name: 'Clothing'\\n    id: 18\\n}\\n        \\nitem {\\n    name: 'Human nose'\\n    id: 19\\n}\\n        \\nitem {\\n    name: 'Pumpkin'\\n    id: 20\\n}\\n        \\nitem {\\n    name: 'Box'\\n    id: 21\\n}\\n        \\nitem {\\n    name: 'Drink'\\n    id: 22\\n}\\n        \\nitem {\\n    name: 'Footwear'\\n    id: 23\\n}\\n        \\nitem {\\n    name: 'Fashion accessory'\\n    id: 24\\n}\\n        \\nitem {\\n    name: 'Raccoon'\\n    id: 25\\n}\\n        \\nitem {\\n    name: 'Kitchen & dining room table'\\n    id: 26\\n}\\n        \\nitem {\\n    name: 'Chair'\\n    id: 27\\n}\\n        \\nitem {\\n    name: 'Furniture'\\n    id: 28\\n}\\n        \\nitem {\\n    name: 'Jeans'\\n    id: 29\\n}\\n        \\nitem {\\n    name: 'Tree'\\n    id: 30\\n}\\n        \\nitem {\\n    name: 'Couch'\\n    id: 31\\n}\\n        \\nitem {\\n    name: 'Window'\\n    id: 32\\n}\\n        \\nitem {\\n    name: 'Table'\\n    id: 33\\n}\\n        \\nitem {\\n    name: 'Tomato'\\n    id: 34\\n}\\n        \\nitem {\\n    name: 'Man'\\n    id: 35\\n}\\n        \\nitem {\\n    name: 'Cat furniture'\\n    id: 36\\n}\\n        \\nitem {\\n    name: 'Laptop'\\n    id: 37\\n}\\n        \\nitem {\\n    name: 'Pillow'\\n    id: 38\\n}\\n        \\nitem {\\n    name: 'Food'\\n    id: 39\\n}\\n        \\nitem {\\n    name: 'Bat (Animal)'\\n    id: 40\\n}\\n        \\nitem {\\n    name: 'Human arm'\\n    id: 41\\n}\\n        \\nitem {\\n    name: 'Tableware'\\n    id: 42\\n}\\n        \\nitem {\\n    name: 'Human hand'\\n    id: 43\\n}\\n        \\nitem {\\n    name: 'Fruit'\\n    id: 44\\n}\\n        \\nitem {\\n    name: 'Bowl'\\n    id: 45\\n}\\n        \\nitem {\\n    name: 'Snack'\\n    id: 46\\n}\\n        \\nitem {\\n    name: 'Billboard'\\n    id: 47\\n}\\n        \\nitem {\\n    name: 'Computer monitor'\\n    id: 48\\n}\\n        \\nitem {\\n    name: 'Bottle'\\n    id: 49\\n}\\n        \\nitem {\\n    name: 'Land vehicle'\\n    id: 50\\n}\\n        \\nitem {\\n    name: 'Wheel'\\n    id: 51\\n}\\n        \\nitem {\\n    name: 'Glasses'\\n    id: 52\\n}\\n        \\nitem {\\n    name: 'Carnivore'\\n    id: 53\\n}\\n        \\nitem {\\n    name: 'Picnic basket'\\n    id: 54\\n}\\n        \\nitem {\\n    name: 'Human leg'\\n    id: 55\\n}\\n        \\nitem {\\n    name: 'Mammal'\\n    id: 56\\n}\\n        \\nitem {\\n    name: 'Human head'\\n    id: 57\\n}\\n        \\nitem {\\n    name: 'Animal'\\n    id: 58\\n}\\n        \\nitem {\\n    name: 'Leopard'\\n    id: 59\\n}\\n        \\nitem {\\n    name: 'Mug'\\n    id: 60\\n}\\n        \\nitem {\\n    name: 'Dairy Product'\\n    id: 61\\n}\\n        \\nitem {\\n    name: 'Saucer'\\n    id: 62\\n}\\n        \\nitem {\\n    name: 'Coffee cup'\\n    id: 63\\n}\\n        \\nitem {\\n    name: 'Human body'\\n    id: 64\\n}\\n        \\nitem {\\n    name: 'Car'\\n    id: 65\\n}\\n        \\nitem {\\n    name: 'Tire'\\n    id: 66\\n}\\n        \\nitem {\\n    name: 'Human foot'\\n    id: 67\\n}\\n        \\nitem {\\n    name: 'Vehicle'\\n    id: 68\\n}\\n        \\nitem {\\n    name: 'Vehicle registration plate'\\n    id: 69\\n}\\n        \\nitem {\\n    name: 'Houseplant'\\n    id: 70\\n}\\n        \\nitem {\\n    name: 'Mixing bowl'\\n    id: 71\\n}\\n        \\nitem {\\n    name: 'Skunk'\\n    id: 72\\n}\\n        \\nitem {\\n    name: 'Tripod'\\n    id: 73\\n}\\n        \\nitem {\\n    name: 'House'\\n    id: 74\\n}\\n        \\nitem {\\n    name: 'Dessert'\\n    id: 75\\n}\\n        \\nitem {\\n    name: 'Rabbit'\\n    id: 76\\n}\\n        \\nitem {\\n    name: 'Dress'\\n    id: 77\\n}\\n        \\nitem {\\n    name: 'Girl'\\n    id: 78\\n}\\n        \\nitem {\\n    name: 'Sunglasses'\\n    id: 79\\n}\\n        \\nitem {\\n    name: 'Human mouth'\\n    id: 80\\n}\\n        \\nitem {\\n    name: 'Washing machine'\\n    id: 81\\n}\\n        \\nitem {\\n    name: 'Toy'\\n    id: 82\\n}\\n        \\nitem {\\n    name: 'Alarm clock'\\n    id: 83\\n}\\n        \\nitem {\\n    name: 'Jaguar (Animal)'\\n    id: 84\\n}\\n        \\nitem {\\n    name: 'Tiger'\\n    id: 85\\n}\\n        \\nitem {\\n    name: 'Book'\\n    id: 86\\n}\\n        \\nitem {\\n    name: 'Sink'\\n    id: 87\\n}\\n        \\nitem {\\n    name: 'Plumbing fixture'\\n    id: 88\\n}\\n        \\nitem {\\n    name: 'Bidet'\\n    id: 89\\n}\\n        \\nitem {\\n    name: 'Tap'\\n    id: 90\\n}\\n        \\nitem {\\n    name: 'Toilet'\\n    id: 91\\n}\\n        \\nitem {\\n    name: 'Bird'\\n    id: 92\\n}\\n        \""
      ]
     },
     "execution_count": 60,
     "metadata": {},
     "output_type": "execute_result"
    }
   ],
   "source": [
    "label_map"
   ]
  },
  {
   "cell_type": "code",
   "execution_count": 3,
   "id": "670f04f1-f1ea-41dd-adc7-90e47bdc65fc",
   "metadata": {},
   "outputs": [
    {
     "ename": "AssertionError",
     "evalue": "Duplicate registrations for type 'experimentalOptimizer'",
     "output_type": "error",
     "traceback": [
      "\u001b[0;31m---------------------------------------------------------------------------\u001b[0m",
      "\u001b[0;31mAssertionError\u001b[0m                            Traceback (most recent call last)",
      "\u001b[0;32m/tmp/ipykernel_8438/4294963926.py\u001b[0m in \u001b[0;36m<module>\u001b[0;34m\u001b[0m\n\u001b[0;32m----> 1\u001b[0;31m \u001b[0;32mimport\u001b[0m \u001b[0mtensorflow\u001b[0m\u001b[0;34m\u001b[0m\u001b[0;34m\u001b[0m\u001b[0m\n\u001b[0m",
      "\u001b[0;32m/opt/conda/lib/python3.7/site-packages/tensorflow/__init__.py\u001b[0m in \u001b[0;36m<module>\u001b[0;34m\u001b[0m\n\u001b[1;32m    471\u001b[0m \u001b[0;32mif\u001b[0m \u001b[0mhasattr\u001b[0m\u001b[0;34m(\u001b[0m\u001b[0m_current_module\u001b[0m\u001b[0;34m,\u001b[0m \u001b[0;34m\"keras\"\u001b[0m\u001b[0;34m)\u001b[0m\u001b[0;34m:\u001b[0m\u001b[0;34m\u001b[0m\u001b[0;34m\u001b[0m\u001b[0m\n\u001b[1;32m    472\u001b[0m   \u001b[0;32mtry\u001b[0m\u001b[0;34m:\u001b[0m\u001b[0;34m\u001b[0m\u001b[0;34m\u001b[0m\u001b[0m\n\u001b[0;32m--> 473\u001b[0;31m     \u001b[0mkeras\u001b[0m\u001b[0;34m.\u001b[0m\u001b[0m_load\u001b[0m\u001b[0;34m(\u001b[0m\u001b[0;34m)\u001b[0m\u001b[0;34m\u001b[0m\u001b[0;34m\u001b[0m\u001b[0m\n\u001b[0m\u001b[1;32m    474\u001b[0m   \u001b[0;32mexcept\u001b[0m \u001b[0mImportError\u001b[0m\u001b[0;34m:\u001b[0m\u001b[0;34m\u001b[0m\u001b[0;34m\u001b[0m\u001b[0m\n\u001b[1;32m    475\u001b[0m     \u001b[0;32mpass\u001b[0m\u001b[0;34m\u001b[0m\u001b[0;34m\u001b[0m\u001b[0m\n",
      "\u001b[0;32m/opt/conda/lib/python3.7/site-packages/tensorflow/python/util/lazy_loader.py\u001b[0m in \u001b[0;36m_load\u001b[0;34m(self)\u001b[0m\n\u001b[1;32m     39\u001b[0m     \u001b[0;34m\"\"\"Load the module and insert it into the parent's globals.\"\"\"\u001b[0m\u001b[0;34m\u001b[0m\u001b[0;34m\u001b[0m\u001b[0m\n\u001b[1;32m     40\u001b[0m     \u001b[0;31m# Import the target module and insert it into the parent's namespace\u001b[0m\u001b[0;34m\u001b[0m\u001b[0;34m\u001b[0m\u001b[0;34m\u001b[0m\u001b[0m\n\u001b[0;32m---> 41\u001b[0;31m     \u001b[0mmodule\u001b[0m \u001b[0;34m=\u001b[0m \u001b[0mimportlib\u001b[0m\u001b[0;34m.\u001b[0m\u001b[0mimport_module\u001b[0m\u001b[0;34m(\u001b[0m\u001b[0mself\u001b[0m\u001b[0;34m.\u001b[0m\u001b[0m__name__\u001b[0m\u001b[0;34m)\u001b[0m\u001b[0;34m\u001b[0m\u001b[0;34m\u001b[0m\u001b[0m\n\u001b[0m\u001b[1;32m     42\u001b[0m     \u001b[0mself\u001b[0m\u001b[0;34m.\u001b[0m\u001b[0m_parent_module_globals\u001b[0m\u001b[0;34m[\u001b[0m\u001b[0mself\u001b[0m\u001b[0;34m.\u001b[0m\u001b[0m_local_name\u001b[0m\u001b[0;34m]\u001b[0m \u001b[0;34m=\u001b[0m \u001b[0mmodule\u001b[0m\u001b[0;34m\u001b[0m\u001b[0;34m\u001b[0m\u001b[0m\n\u001b[1;32m     43\u001b[0m \u001b[0;34m\u001b[0m\u001b[0m\n",
      "\u001b[0;32m/opt/conda/lib/python3.7/importlib/__init__.py\u001b[0m in \u001b[0;36mimport_module\u001b[0;34m(name, package)\u001b[0m\n\u001b[1;32m    125\u001b[0m                 \u001b[0;32mbreak\u001b[0m\u001b[0;34m\u001b[0m\u001b[0;34m\u001b[0m\u001b[0m\n\u001b[1;32m    126\u001b[0m             \u001b[0mlevel\u001b[0m \u001b[0;34m+=\u001b[0m \u001b[0;36m1\u001b[0m\u001b[0;34m\u001b[0m\u001b[0;34m\u001b[0m\u001b[0m\n\u001b[0;32m--> 127\u001b[0;31m     \u001b[0;32mreturn\u001b[0m \u001b[0m_bootstrap\u001b[0m\u001b[0;34m.\u001b[0m\u001b[0m_gcd_import\u001b[0m\u001b[0;34m(\u001b[0m\u001b[0mname\u001b[0m\u001b[0;34m[\u001b[0m\u001b[0mlevel\u001b[0m\u001b[0;34m:\u001b[0m\u001b[0;34m]\u001b[0m\u001b[0;34m,\u001b[0m \u001b[0mpackage\u001b[0m\u001b[0;34m,\u001b[0m \u001b[0mlevel\u001b[0m\u001b[0;34m)\u001b[0m\u001b[0;34m\u001b[0m\u001b[0;34m\u001b[0m\u001b[0m\n\u001b[0m\u001b[1;32m    128\u001b[0m \u001b[0;34m\u001b[0m\u001b[0m\n\u001b[1;32m    129\u001b[0m \u001b[0;34m\u001b[0m\u001b[0m\n",
      "\u001b[0;32m/opt/conda/lib/python3.7/site-packages/keras/__init__.py\u001b[0m in \u001b[0;36m<module>\u001b[0;34m\u001b[0m\n\u001b[1;32m     23\u001b[0m \u001b[0;34m\u001b[0m\u001b[0m\n\u001b[1;32m     24\u001b[0m \u001b[0;31m# See b/110718070#comment18 for more details about this import.\u001b[0m\u001b[0;34m\u001b[0m\u001b[0;34m\u001b[0m\u001b[0;34m\u001b[0m\u001b[0m\n\u001b[0;32m---> 25\u001b[0;31m \u001b[0;32mfrom\u001b[0m \u001b[0mkeras\u001b[0m \u001b[0;32mimport\u001b[0m \u001b[0mmodels\u001b[0m\u001b[0;34m\u001b[0m\u001b[0;34m\u001b[0m\u001b[0m\n\u001b[0m\u001b[1;32m     26\u001b[0m \u001b[0;34m\u001b[0m\u001b[0m\n\u001b[1;32m     27\u001b[0m \u001b[0;32mfrom\u001b[0m \u001b[0mkeras\u001b[0m\u001b[0;34m.\u001b[0m\u001b[0mengine\u001b[0m\u001b[0;34m.\u001b[0m\u001b[0minput_layer\u001b[0m \u001b[0;32mimport\u001b[0m \u001b[0mInput\u001b[0m\u001b[0;34m\u001b[0m\u001b[0;34m\u001b[0m\u001b[0m\n",
      "\u001b[0;32m/opt/conda/lib/python3.7/site-packages/keras/models/__init__.py\u001b[0m in \u001b[0;36m<module>\u001b[0;34m\u001b[0m\n\u001b[1;32m     16\u001b[0m \u001b[0;31m# pylint: disable=g-bad-import-order\u001b[0m\u001b[0;34m\u001b[0m\u001b[0;34m\u001b[0m\u001b[0;34m\u001b[0m\u001b[0m\n\u001b[1;32m     17\u001b[0m \u001b[0;34m\u001b[0m\u001b[0m\n\u001b[0;32m---> 18\u001b[0;31m \u001b[0;32mfrom\u001b[0m \u001b[0mkeras\u001b[0m\u001b[0;34m.\u001b[0m\u001b[0mengine\u001b[0m\u001b[0;34m.\u001b[0m\u001b[0mfunctional\u001b[0m \u001b[0;32mimport\u001b[0m \u001b[0mFunctional\u001b[0m\u001b[0;34m\u001b[0m\u001b[0;34m\u001b[0m\u001b[0m\n\u001b[0m\u001b[1;32m     19\u001b[0m \u001b[0;32mfrom\u001b[0m \u001b[0mkeras\u001b[0m\u001b[0;34m.\u001b[0m\u001b[0mengine\u001b[0m\u001b[0;34m.\u001b[0m\u001b[0msequential\u001b[0m \u001b[0;32mimport\u001b[0m \u001b[0mSequential\u001b[0m\u001b[0;34m\u001b[0m\u001b[0;34m\u001b[0m\u001b[0m\n\u001b[1;32m     20\u001b[0m \u001b[0;32mfrom\u001b[0m \u001b[0mkeras\u001b[0m\u001b[0;34m.\u001b[0m\u001b[0mengine\u001b[0m\u001b[0;34m.\u001b[0m\u001b[0mtraining\u001b[0m \u001b[0;32mimport\u001b[0m \u001b[0mModel\u001b[0m\u001b[0;34m\u001b[0m\u001b[0;34m\u001b[0m\u001b[0m\n",
      "\u001b[0;32m/opt/conda/lib/python3.7/site-packages/keras/engine/functional.py\u001b[0m in \u001b[0;36m<module>\u001b[0;34m\u001b[0m\n\u001b[1;32m     23\u001b[0m \u001b[0;32mimport\u001b[0m \u001b[0mwarnings\u001b[0m\u001b[0;34m\u001b[0m\u001b[0;34m\u001b[0m\u001b[0m\n\u001b[1;32m     24\u001b[0m \u001b[0;32mfrom\u001b[0m \u001b[0mkeras\u001b[0m \u001b[0;32mimport\u001b[0m \u001b[0mbackend\u001b[0m\u001b[0;34m\u001b[0m\u001b[0;34m\u001b[0m\u001b[0m\n\u001b[0;32m---> 25\u001b[0;31m \u001b[0;32mfrom\u001b[0m \u001b[0mkeras\u001b[0m\u001b[0;34m.\u001b[0m\u001b[0mengine\u001b[0m \u001b[0;32mimport\u001b[0m \u001b[0mbase_layer\u001b[0m\u001b[0;34m\u001b[0m\u001b[0;34m\u001b[0m\u001b[0m\n\u001b[0m\u001b[1;32m     26\u001b[0m \u001b[0;32mfrom\u001b[0m \u001b[0mkeras\u001b[0m\u001b[0;34m.\u001b[0m\u001b[0mengine\u001b[0m \u001b[0;32mimport\u001b[0m \u001b[0mbase_layer_utils\u001b[0m\u001b[0;34m\u001b[0m\u001b[0;34m\u001b[0m\u001b[0m\n\u001b[1;32m     27\u001b[0m \u001b[0;32mfrom\u001b[0m \u001b[0mkeras\u001b[0m\u001b[0;34m.\u001b[0m\u001b[0mengine\u001b[0m \u001b[0;32mimport\u001b[0m \u001b[0mfunctional_utils\u001b[0m\u001b[0;34m\u001b[0m\u001b[0;34m\u001b[0m\u001b[0m\n",
      "\u001b[0;32m/opt/conda/lib/python3.7/site-packages/keras/engine/base_layer.py\u001b[0m in \u001b[0;36m<module>\u001b[0;34m\u001b[0m\n\u001b[1;32m     41\u001b[0m \u001b[0;32mfrom\u001b[0m \u001b[0mkeras\u001b[0m\u001b[0;34m.\u001b[0m\u001b[0mengine\u001b[0m \u001b[0;32mimport\u001b[0m \u001b[0mnode\u001b[0m \u001b[0;32mas\u001b[0m \u001b[0mnode_module\u001b[0m\u001b[0;34m\u001b[0m\u001b[0;34m\u001b[0m\u001b[0m\n\u001b[1;32m     42\u001b[0m \u001b[0;32mfrom\u001b[0m \u001b[0mkeras\u001b[0m\u001b[0;34m.\u001b[0m\u001b[0mmixed_precision\u001b[0m \u001b[0;32mimport\u001b[0m \u001b[0mautocast_variable\u001b[0m\u001b[0;34m\u001b[0m\u001b[0;34m\u001b[0m\u001b[0m\n\u001b[0;32m---> 43\u001b[0;31m \u001b[0;32mfrom\u001b[0m \u001b[0mkeras\u001b[0m\u001b[0;34m.\u001b[0m\u001b[0mmixed_precision\u001b[0m \u001b[0;32mimport\u001b[0m \u001b[0mloss_scale_optimizer\u001b[0m\u001b[0;34m\u001b[0m\u001b[0;34m\u001b[0m\u001b[0m\n\u001b[0m\u001b[1;32m     44\u001b[0m \u001b[0;32mfrom\u001b[0m \u001b[0mkeras\u001b[0m\u001b[0;34m.\u001b[0m\u001b[0mmixed_precision\u001b[0m \u001b[0;32mimport\u001b[0m \u001b[0mpolicy\u001b[0m\u001b[0;34m\u001b[0m\u001b[0;34m\u001b[0m\u001b[0m\n\u001b[1;32m     45\u001b[0m \u001b[0;32mfrom\u001b[0m \u001b[0mkeras\u001b[0m\u001b[0;34m.\u001b[0m\u001b[0msaving\u001b[0m\u001b[0;34m.\u001b[0m\u001b[0msaved_model\u001b[0m \u001b[0;32mimport\u001b[0m \u001b[0mlayer_serialization\u001b[0m\u001b[0;34m\u001b[0m\u001b[0;34m\u001b[0m\u001b[0m\n",
      "\u001b[0;32m/opt/conda/lib/python3.7/site-packages/keras/mixed_precision/loss_scale_optimizer.py\u001b[0m in \u001b[0;36m<module>\u001b[0;34m\u001b[0m\n\u001b[1;32m     18\u001b[0m \u001b[0;32mfrom\u001b[0m \u001b[0mkeras\u001b[0m \u001b[0;32mimport\u001b[0m \u001b[0moptimizers\u001b[0m\u001b[0;34m\u001b[0m\u001b[0;34m\u001b[0m\u001b[0m\n\u001b[1;32m     19\u001b[0m \u001b[0;32mfrom\u001b[0m \u001b[0mkeras\u001b[0m\u001b[0;34m.\u001b[0m\u001b[0mmixed_precision\u001b[0m \u001b[0;32mimport\u001b[0m \u001b[0mloss_scale\u001b[0m \u001b[0;32mas\u001b[0m \u001b[0mkeras_loss_scale_module\u001b[0m\u001b[0;34m\u001b[0m\u001b[0;34m\u001b[0m\u001b[0m\n\u001b[0;32m---> 20\u001b[0;31m \u001b[0;32mfrom\u001b[0m \u001b[0mkeras\u001b[0m\u001b[0;34m.\u001b[0m\u001b[0moptimizer_experimental\u001b[0m \u001b[0;32mimport\u001b[0m \u001b[0moptimizer\u001b[0m \u001b[0;32mas\u001b[0m \u001b[0moptimizer_experimental\u001b[0m\u001b[0;34m\u001b[0m\u001b[0;34m\u001b[0m\u001b[0m\n\u001b[0m\u001b[1;32m     21\u001b[0m \u001b[0;32mfrom\u001b[0m \u001b[0mkeras\u001b[0m\u001b[0;34m.\u001b[0m\u001b[0moptimizer_v2\u001b[0m \u001b[0;32mimport\u001b[0m \u001b[0moptimizer_v2\u001b[0m\u001b[0;34m\u001b[0m\u001b[0;34m\u001b[0m\u001b[0m\n\u001b[1;32m     22\u001b[0m \u001b[0;32mfrom\u001b[0m \u001b[0mkeras\u001b[0m\u001b[0;34m.\u001b[0m\u001b[0moptimizer_v2\u001b[0m \u001b[0;32mimport\u001b[0m \u001b[0mutils\u001b[0m \u001b[0;32mas\u001b[0m \u001b[0moptimizer_utils\u001b[0m\u001b[0;34m\u001b[0m\u001b[0;34m\u001b[0m\u001b[0m\n",
      "\u001b[0;32m/opt/conda/lib/python3.7/site-packages/keras/optimizer_experimental/optimizer.py\u001b[0m in \u001b[0;36m<module>\u001b[0;34m\u001b[0m\n\u001b[1;32m    655\u001b[0m             \u001b[0mversion\u001b[0m\u001b[0;34m=\u001b[0m\u001b[0;36m2\u001b[0m\u001b[0;34m,\u001b[0m\u001b[0;34m\u001b[0m\u001b[0;34m\u001b[0m\u001b[0m\n\u001b[1;32m    656\u001b[0m             \u001b[0mmin_producer_version\u001b[0m\u001b[0;34m=\u001b[0m\u001b[0;36m1\u001b[0m\u001b[0;34m,\u001b[0m\u001b[0;34m\u001b[0m\u001b[0;34m\u001b[0m\u001b[0m\n\u001b[0;32m--> 657\u001b[0;31m             min_consumer_version=1)\n\u001b[0m\u001b[1;32m    658\u001b[0m     ])\n",
      "\u001b[0;32m/opt/conda/lib/python3.7/site-packages/tensorflow/python/saved_model/revived_types.py\u001b[0m in \u001b[0;36mregister_revived_type\u001b[0;34m(identifier, predicate, versions)\u001b[0m\n\u001b[1;32m    131\u001b[0m \u001b[0;34m\u001b[0m\u001b[0m\n\u001b[1;32m    132\u001b[0m   \u001b[0;32mif\u001b[0m \u001b[0midentifier\u001b[0m \u001b[0;32min\u001b[0m \u001b[0m_REVIVED_TYPE_REGISTRY\u001b[0m\u001b[0;34m:\u001b[0m\u001b[0;34m\u001b[0m\u001b[0;34m\u001b[0m\u001b[0m\n\u001b[0;32m--> 133\u001b[0;31m     \u001b[0;32mraise\u001b[0m \u001b[0mAssertionError\u001b[0m\u001b[0;34m(\u001b[0m\u001b[0;34mf\"Duplicate registrations for type '{identifier}'\"\u001b[0m\u001b[0;34m)\u001b[0m\u001b[0;34m\u001b[0m\u001b[0;34m\u001b[0m\u001b[0m\n\u001b[0m\u001b[1;32m    134\u001b[0m \u001b[0;34m\u001b[0m\u001b[0m\n\u001b[1;32m    135\u001b[0m   \u001b[0m_REVIVED_TYPE_REGISTRY\u001b[0m\u001b[0;34m[\u001b[0m\u001b[0midentifier\u001b[0m\u001b[0;34m]\u001b[0m \u001b[0;34m=\u001b[0m \u001b[0;34m(\u001b[0m\u001b[0mpredicate\u001b[0m\u001b[0;34m,\u001b[0m \u001b[0mversions\u001b[0m\u001b[0;34m)\u001b[0m\u001b[0;34m\u001b[0m\u001b[0;34m\u001b[0m\u001b[0m\n",
      "\u001b[0;31mAssertionError\u001b[0m: Duplicate registrations for type 'experimentalOptimizer'"
     ]
    }
   ],
   "source": [
    "import tensorflow"
   ]
  },
  {
   "cell_type": "code",
   "execution_count": null,
   "id": "2162bf29-c257-4a80-ad4d-4c4bee468644",
   "metadata": {},
   "outputs": [],
   "source": [
    "tensorflow.__version__"
   ]
  },
  {
   "cell_type": "raw",
   "id": "9e1f61bc-9681-4119-acc7-45f3a8290f8f",
   "metadata": {},
   "source": [
    "!python /home/jupyter/models/research/object_detection/model_main_tf2.py \\\n",
    "    --pipeline_config_path=../model/pipeline.config \\\n",
    "    --train_dir=../model/train"
   ]
  },
  {
   "cell_type": "code",
   "execution_count": null,
   "id": "337ead9e-f03b-4107-90ae-13268da380dc",
   "metadata": {},
   "outputs": [],
   "source": []
  }
 ],
 "metadata": {
  "environment": {
   "kernel": "python3",
   "name": "tf2-gpu.2-8.m95",
   "type": "gcloud",
   "uri": "gcr.io/deeplearning-platform-release/tf2-gpu.2-8:m95"
  },
  "kernelspec": {
   "display_name": "Python 3",
   "language": "python",
   "name": "python3"
  },
  "language_info": {
   "codemirror_mode": {
    "name": "ipython",
    "version": 3
   },
   "file_extension": ".py",
   "mimetype": "text/x-python",
   "name": "python",
   "nbconvert_exporter": "python",
   "pygments_lexer": "ipython3",
   "version": "3.7.12"
  }
 },
 "nbformat": 4,
 "nbformat_minor": 5
}
