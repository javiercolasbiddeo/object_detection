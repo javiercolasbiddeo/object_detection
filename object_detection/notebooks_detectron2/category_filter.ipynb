{
 "cells": [
  {
   "cell_type": "code",
   "execution_count": null,
   "id": "882b0a83-6b59-4a8c-bc6c-4a52c4423c68",
   "metadata": {},
   "outputs": [],
   "source": [
    "import json"
   ]
  },
  {
   "cell_type": "code",
   "execution_count": 3,
   "id": "fa90ee00-cb86-40aa-9225-72fb70902bae",
   "metadata": {},
   "outputs": [],
   "source": [
    "categories = [\"Ambulance\", \"Parking meter\", \"Traffic light\", \"Bicycle\", \"Bus\", \"Vehicle registration plate\", \"Traffic sign\", \"Stop sign\", \"Motorcycle\", \"Vehicle\", \"Taxi\", \"Car\"]"
   ]
  },
  {
   "cell_type": "code",
   "execution_count": 8,
   "id": "6f5a98e1-4199-4403-83b2-c8268e3bb7c9",
   "metadata": {},
   "outputs": [],
   "source": [
    "def filter_catefories(path_coco_json_dataset, export_path, categories):\n",
    "    \n",
    "    f = open(path_coco_json_dataset) \n",
    "    json_file = json.load(f)\n",
    "    \n",
    "    jcategories=json_file['categories']\n",
    "    new_categories=[]\n",
    "    categories_to_filter=[]\n",
    "    for category in jcategories:\n",
    "        if category['name'] in categories:\n",
    "            new_categories.append(category)\n",
    "            categories_to_filter.append(category['id'])\n",
    "\n",
    "    json_file['categories']=new_categories\n",
    "    \n",
    "    annotations=json_file['annotations']\n",
    "    new_annotations=[]\n",
    "    imagages_to_filter=[]\n",
    "    for annotation in annotations:\n",
    "        if annotation['category_id'] in categories_to_filter:\n",
    "            new_annotations.append(annotation)\n",
    "            imagages_to_filter.append(annotation['image_id'])\n",
    "\n",
    "    json_file['annotations']=new_annotations\n",
    "       \n",
    "    new_images=[]\n",
    "    images=json_file['images']\n",
    "    for image in images:\n",
    "        if image['id'] in imagages_to_filter:\n",
    "            new_images.append(image)\n",
    "                \n",
    "    json_file['images']=new_images\n",
    "    \n",
    "    with open(export_path, 'w') as f:\n",
    "        json.dump(json_file,f)"
   ]
  },
  {
   "cell_type": "code",
   "execution_count": 11,
   "id": "ef127d98-9ad5-4235-9598-5a1c76f5f280",
   "metadata": {},
   "outputs": [],
   "source": [
    "filter_catefories(path_coco_json_dataset = '/home/jupyter/coco_data/object_detection_dataset_train/labels.json',\n",
    "                  export_path = '/home/jupyter/coco_data/object_detection_dataset_train/filter_labels.json',\n",
    "                  categories = categories)"
   ]
  },
  {
   "cell_type": "code",
   "execution_count": null,
   "id": "4b1e0225-550e-45b5-ba8d-13398088bf73",
   "metadata": {},
   "outputs": [],
   "source": [
    "filter_catefories(path_coco_json_dataset = '/home/jupyter/coco_data/object_detection_dataset_test/labels.json',\n",
    "                  export_path = '/home/jupyter/coco_data/object_detection_dataset_test/filter_labels.json',\n",
    "                  categories = categories)"
   ]
  },
  {
   "cell_type": "code",
   "execution_count": 10,
   "id": "c75f9516-d85f-4364-91ea-607c281d1ea3",
   "metadata": {},
   "outputs": [],
   "source": [
    "filter_catefories(path_coco_json_dataset = '/home/jupyter/coco_data/object_detection_dataset_validation/labels.json',\n",
    "                  export_path = '/home/jupyter/coco_data/object_detection_dataset_validation/filter_labels.json',\n",
    "                  categories = categories)"
   ]
  },
  {
   "cell_type": "code",
   "execution_count": null,
   "id": "42441452-5c6b-4ff5-b264-7f2102c55c61",
   "metadata": {},
   "outputs": [],
   "source": []
  }
 ],
 "metadata": {
  "environment": {
   "kernel": "python3",
   "name": "tf2-gpu.2-9.m95",
   "type": "gcloud",
   "uri": "gcr.io/deeplearning-platform-release/tf2-gpu.2-9:m95"
  },
  "kernelspec": {
   "display_name": "Python 3",
   "language": "python",
   "name": "python3"
  },
  "language_info": {
   "codemirror_mode": {
    "name": "ipython",
    "version": 3
   },
   "file_extension": ".py",
   "mimetype": "text/x-python",
   "name": "python",
   "nbconvert_exporter": "python",
   "pygments_lexer": "ipython3",
   "version": "3.7.12"
  }
 },
 "nbformat": 4,
 "nbformat_minor": 5
}
